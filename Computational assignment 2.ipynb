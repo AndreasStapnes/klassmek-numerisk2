{
 "cells": [
  {
   "cell_type": "markdown",
   "metadata": {},
   "source": [
    "# COMPUTATIONAL ASSIGNMENT 2\n",
    "### Andreas Stapnes og Inga Konow\n",
    "\n",
    "## The trebuchet\n",
    "\n",
    "TASK 1.\n",
    "Express the velocities of the projectile and counterweight as functions of the angles $\\psi, \\theta$ and their time derivatives $\\dot{\\psi},\\dot{\\theta}$. Calculate the Lagrangian and the equations of motion.\n",
    "\n",
    "The velocities of the projectile and the counterweight is given by the time derivative of their position r.\n",
    "\n",
    "$$\n",
    "\\dot{r_1}=\n",
    "\\begin{bmatrix}\n",
    "l_1\\dot{\\theta}cos(\\theta)\\\\\n",
    "l_1\\dot{\\theta}sin(\\theta)\n",
    "\\end{bmatrix}\n",
    "$$\n",
    "\n",
    "$$\n",
    "\\dot{r_{2b}}=\n",
    "\\begin{bmatrix}\n",
    "-l_2\\dot{\\theta}cos(\\theta)-l_4(\\dot{\\psi}-\\dot{\\theta})cos(\\psi-\\theta)\\\\\n",
    "-l_2\\dot{\\theta}sin(\\theta)+l_4(\\dot{\\psi}-\\dot{\\theta})cos(\\psi-\\theta)\n",
    "\\end{bmatrix}\n",
    "\n",
    "$$\n",
    "\n",
    "Height for the counter weight, $m_1$:\n",
    "$-l_1cos(\\theta)+l_3$\n",
    "\n",
    "Height for the projectile, $m_2$:\n",
    "$l_2cos(\\theta)+l_3-l_4cos(\\psi-\\theta)$\n",
    "\n",
    "We have the Lagrangian for the system given by:\n",
    "\n",
    "$$\n",
    "L(\\theta,\\dot{\\theta}, \\psi, \\dot{\\psi})=\\sum_i T_i-V_i \\\\\n",
    "=\\sum_i \\frac12m_iv_1^2 - m_igh = \\sum_i \\frac12m_i\\dot{r_i^2}-m_igh\\\\\n",
    "$$\n",
    "\n",
    "If we use the calculated time derivative of $r$, $\\dot{r}$, and put it into the equation together with the height of the different masses, we get the following result:\n",
    "\n",
    "$$\n",
    "=\\frac12(m_1l_1^2+m_2l_2^2)\\dot{\\theta}^2-gl_3(m_1+m_2)\\\\\n",
    "+g(m_1l_1-m_2l_2)cos(\\theta)+\\frac12m_2l_4^2(\\dot{\\psi}-\\dot{\\theta})^2\\\\\n",
    "+m_2l_2l_4\\dot{\\theta}(\\dot{\\psi}-\\dot{\\theta})cos(\\psi)+gm_2l_4cos(\\psi-\\theta)\n",
    "$$\n",
    "\n",
    "Applying the Euler-Lagrange equations for $\\theta$ and $\\psi$ we get:\n",
    "\n",
    "$$\n",
    "\\frac{\\partial L}{\\partial \\theta}-\\frac{\\partial}{\\partial t}(\\frac{\\partial L}{\\partial \\dot{\\theta}})= -g(m_1l_1-m_2l_2)\\dot{\\theta}sin(\\theta)+gm_2l_4\\dot{\\theta}sin(\\psi-\\theta)-\\frac{\\partial}{\\partial t}(!!)\n",
    "$$\n",
    "\n"
   ]
  },
  {
   "cell_type": "code",
   "execution_count": null,
   "metadata": {},
   "outputs": [],
   "source": []
  }
 ],
 "metadata": {
  "language_info": {
   "name": "python"
  },
  "orig_nbformat": 4
 },
 "nbformat": 4,
 "nbformat_minor": 2
}
