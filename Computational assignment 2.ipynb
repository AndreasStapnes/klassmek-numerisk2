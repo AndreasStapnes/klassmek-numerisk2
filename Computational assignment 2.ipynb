{
 "cells": [
  {
   "cell_type": "markdown",
   "metadata": {},
   "source": [
    "# COMPUTATIONAL ASSIGNMENT 2\n",
    "### Andreas Stapnes og Inga Konow\n",
    "\n",
    "## The trebuchet\n",
    "\n",
    "TASK 1.\n",
    "Express the velocities of the projectile and counterweight as functions of the angles $\\psi, \\theta$ and their time derivatives $\\psi$"
   ]
  },
  {
   "cell_type": "code",
   "execution_count": null,
   "metadata": {},
   "outputs": [],
   "source": []
  }
 ],
 "metadata": {
  "language_info": {
   "name": "python"
  },
  "orig_nbformat": 4
 },
 "nbformat": 4,
 "nbformat_minor": 2
}
